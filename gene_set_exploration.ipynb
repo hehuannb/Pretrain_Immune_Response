{
 "cells": [
  {
   "cell_type": "code",
   "execution_count": 33,
   "metadata": {},
   "outputs": [],
   "source": [
    "import pandas as pd\n",
    "import numpy as np\n",
    "\n",
    "def get_gene_counts(files):\n",
    "    counter = 0\n",
    "    \n",
    "    base = pd.read_csv('../clean/' + files[0], sep = '\\t', usecols = ['gene_id'])\n",
    "    \n",
    "    #Initialize num. of files with expression in each gene to zero\n",
    "    base['counts'] = 0\n",
    "    \n",
    "    for file in files:\n",
    "        \n",
    "        #make sure gene ids match up\n",
    "        cur_df = pd.read_csv('../clean/' + file, sep = '\\t', usecols = ['gene_id', 'unstranded'])\n",
    "        assert(list(cur_df.gene_id) == list(base.gene_id))\n",
    "        \n",
    "        #find where expression exists > 0\n",
    "        cur_df['counts'] = (cur_df['unstranded'] > 0).astype(int)\n",
    "        \n",
    "        #Wherever expression >0, +1 to counts\n",
    "        base.counts = base.counts + cur_df.counts\n",
    "        \n",
    "        if counter%100 == 0:\n",
    "            print(str(counter/len(files) * 100) + '%', sum(base['counts'] == 0))\n",
    "        counter += 1\n",
    "        \n",
    "    return base\n"
   ]
  },
  {
   "cell_type": "code",
   "execution_count": 34,
   "metadata": {},
   "outputs": [
    {
     "name": "stdout",
     "output_type": "stream",
     "text": [
      "0.0% 28828\n",
      "0.8767315448009819% 4637\n",
      "1.7534630896019638% 3329\n",
      "2.6301946344029457% 2926\n",
      "3.5069261792039277% 2773\n",
      "4.38365772400491% 2670\n",
      "5.260389268805891% 2616\n",
      "6.137120813606874% 2555\n",
      "7.013852358407855% 2535\n",
      "7.890583903208838% 2519\n",
      "8.76731544800982% 2500\n",
      "9.6440469928108% 2485\n",
      "10.520778537611783% 2472\n",
      "11.397510082412765% 2457\n",
      "12.274241627213748% 2448\n",
      "13.15097317201473% 2443\n",
      "14.02770471681571% 2433\n",
      "14.904436261616693% 2420\n",
      "15.781167806417676% 2410\n",
      "16.657899351218656% 2401\n",
      "17.53463089601964% 2394\n",
      "18.411362440820618% 2389\n",
      "19.2880939856216% 2384\n",
      "20.164825530422583% 2377\n",
      "21.041557075223565% 2372\n",
      "21.918288620024548% 2366\n",
      "22.79502016482553% 2364\n",
      "23.671751709626513% 2361\n",
      "24.548483254427495% 2358\n",
      "25.425214799228474% 2358\n",
      "26.30194634402946% 2355\n",
      "27.17867788883044% 2351\n",
      "28.05540943363142% 2351\n",
      "28.932140978432404% 2350\n",
      "29.808872523233386% 2348\n",
      "30.685604068034365% 2346\n",
      "31.56233561283535% 2346\n",
      "32.43906715763633% 2344\n",
      "33.31579870243731% 2343\n",
      "34.192530247238295% 2336\n",
      "35.06926179203928% 2335\n",
      "35.94599333684026% 2334\n",
      "36.822724881641236% 2333\n",
      "37.699456426442225% 2329\n",
      "38.5761879712432% 2328\n",
      "39.45291951604419% 2328\n",
      "40.329651060845165% 2326\n",
      "41.206382605646155% 2325\n",
      "42.08311415044713% 2322\n",
      "42.95984569524812% 2320\n",
      "43.836577240049095% 2319\n",
      "44.71330878485008% 2317\n",
      "45.59004032965106% 2314\n",
      "46.46677187445204% 2310\n",
      "47.343503419253025% 2309\n",
      "48.220234964054% 2308\n",
      "49.09696650885499% 2308\n",
      "49.973698053655966% 2308\n",
      "50.85042959845695% 2305\n",
      "51.72716114325794% 2303\n",
      "52.60389268805892% 2302\n",
      "53.480624232859896% 2302\n",
      "54.35735577766088% 2300\n",
      "55.23408732246187% 2299\n",
      "56.11081886726284% 2299\n",
      "56.987550412063825% 2299\n",
      "57.86428195686481% 2299\n",
      "58.7410135016658% 2299\n",
      "59.61774504646677% 2298\n",
      "60.494476591267755% 2296\n",
      "61.37120813606873% 2294\n",
      "62.24793968086971% 2294\n",
      "63.1246712256707% 2294\n",
      "64.00140277047169% 2294\n",
      "64.87813431527266% 2294\n",
      "65.75486586007364% 2294\n",
      "66.63159740487463% 2294\n",
      "67.50832894967562% 2293\n",
      "68.38506049447659% 2291\n",
      "69.26179203927757% 2290\n",
      "70.13852358407856% 2289\n",
      "71.01525512887955% 2289\n",
      "71.89198667368052% 2289\n",
      "72.7687182184815% 2289\n",
      "73.64544976328247% 2288\n",
      "74.52218130808347% 2288\n",
      "75.39891285288445% 2287\n",
      "76.27564439768543% 2286\n",
      "77.1523759424864% 2285\n",
      "78.02910748728739% 2284\n",
      "78.90583903208838% 2284\n",
      "79.78257057688936% 2284\n",
      "80.65930212169033% 2284\n",
      "81.53603366649132% 2283\n",
      "82.41276521129231% 2283\n",
      "83.28949675609329% 2283\n",
      "84.16622830089426% 2282\n",
      "85.04295984569524% 2282\n",
      "85.91969139049624% 2282\n",
      "86.79642293529722% 2282\n",
      "87.67315448009819% 2281\n",
      "88.54988602489917% 2281\n",
      "89.42661756970016% 2280\n",
      "90.30334911450115% 2279\n",
      "91.18008065930212% 2279\n",
      "92.0568122041031% 2278\n",
      "92.93354374890409% 2278\n",
      "93.81027529370508% 2277\n",
      "94.68700683850605% 2276\n",
      "95.56373838330703% 2276\n",
      "96.440469928108% 2276\n",
      "97.317201472909% 2276\n",
      "98.19393301770998% 2276\n",
      "99.07066456251096% 2276\n",
      "99.94739610731193% 2275\n"
     ]
    }
   ],
   "source": [
    "import os\n",
    "import pandas as pd\n",
    "#Check if gene lists are the same across files\n",
    "#if so, just do 0 vs > 0 and addition instead of iterating. much faster. \n",
    "\n",
    "genes = get_gene_set(os.listdir('../clean'))\n"
   ]
  },
  {
   "cell_type": "code",
   "execution_count": 41,
   "metadata": {},
   "outputs": [
    {
     "name": "stdout",
     "output_type": "stream",
     "text": [
      "60660\n"
     ]
    },
    {
     "data": {
      "text/plain": [
       "(array([ 9291.,  4366.,  3146.,  2608.,  2124.,  1843.,  1759.,  1443.,\n",
       "         1341.,  1376.,  1264.,  1259.,  1297.,  1140.,  1193.,  1241.,\n",
       "         1401.,  1585.,  2138., 18845.]),\n",
       " array([    0. ,   570.3,  1140.6,  1710.9,  2281.2,  2851.5,  3421.8,\n",
       "         3992.1,  4562.4,  5132.7,  5703. ,  6273.3,  6843.6,  7413.9,\n",
       "         7984.2,  8554.5,  9124.8,  9695.1, 10265.4, 10835.7, 11406. ]),\n",
       " <a list of 20 Patch objects>)"
      ]
     },
     "execution_count": 41,
     "metadata": {},
     "output_type": "execute_result"
    },
    {
     "data": {
      "image/png": "[encoded data removed]",
      "text/plain": [
       "<Figure size 432x288 with 1 Axes>"
      ]
     },
     "metadata": {
      "needs_background": "light"
     },
     "output_type": "display_data"
    }
   ],
   "source": [
    "import matplotlib.pyplot as plt\n",
    "print(len(genes))\n",
    "plt.hist(x = genes['counts'], bins = 20, edgecolor = 'white')"
   ]
  },
  {
   "cell_type": "code",
   "execution_count": 15,
   "metadata": {},
   "outputs": [],
   "source": [
    "import pandas as pd\n",
    "X = pd.read_csv('../processing/top10k_abs_dev.csv', index_col = 'gene_id')\n",
    "X2 = (X > 0).astype(int)\n"
   ]
  },
  {
   "cell_type": "code",
   "execution_count": 16,
   "metadata": {},
   "outputs": [
    {
     "name": "stdout",
     "output_type": "stream",
     "text": [
      "7041 11384.2343 11406 156.31578936085407\n"
     ]
    },
    {
     "data": {
      "image/png": "[encoded data removed]",
      "text/plain": [
       "<Figure size 640x480 with 1 Axes>"
      ]
     },
     "metadata": {},
     "output_type": "display_data"
    }
   ],
   "source": [
    "import matplotlib.pyplot as plt\n",
    "import numpy as np\n",
    "plt.yscale(\"log\")\n",
    "plt.hist(x = X2.sum(axis = 1), bins = 100, edgecolor = 'white')\n",
    "l = X2.sum(axis = 1)\n",
    "print(np.min(l), np.mean(l), np.max(l), np.std(l))"
   ]
  },
  {
   "cell_type": "code",
   "execution_count": 15,
   "metadata": {},
   "outputs": [],
   "source": [
    "import pandas as pd\n",
    "def get_clean_tsv(to_clean):\n",
    "    for idx, row in to_clean.iterrows():\n",
    "        with open('../query_1.2022-10-17/' + row['id'] + '/' + row['filename']) as raw:\n",
    "            lines = raw.readlines()\n",
    "            with open('../clean/' + row['filename'], 'w') as clean:\n",
    "                [clean.write(x) for x in lines if (x[0] != '#' and x[0] != 'N')]"
   ]
  },
  {
   "cell_type": "code",
   "execution_count": 16,
   "metadata": {},
   "outputs": [
    {
     "name": "stdout",
     "output_type": "stream",
     "text": [
      "                                     id  \\\n",
      "0  a0e68d0a-51ff-4b2b-a9b6-499f26651bc7   \n",
      "1  dee27d65-9700-4d94-bd5d-8d67a34747a0   \n",
      "5  ceaa16e9-5464-4977-bde4-c64258fbaed4   \n",
      "6  d6f32fd3-e869-4ad5-8821-feb6f10bb941   \n",
      "7  4a5cb3ce-9784-4d1f-8fae-50602d121aba   \n",
      "\n",
      "                                            filename  \\\n",
      "0  c7522bbe-48b8-4338-b36e-564021353f00.rna_seq.a...   \n",
      "1  8d272434-7ba5-4287-9f1f-f4fac4e1fc7b.rna_seq.a...   \n",
      "5  4364a593-3f2b-446d-bdad-a2a2e899c6ca.rna_seq.a...   \n",
      "6  92c25b70-7da5-41b2-b68d-2ba078b957e9.rna_seq.a...   \n",
      "7  c42bc86c-11ae-4b1b-b281-dfdd2e2250a6.rna_seq.a...   \n",
      "\n",
      "                                md5     size     state  \n",
      "0  8bc65211e58780883a464ea17b1bd2ff  4205203  released  \n",
      "1  acede3c0daf3c1837d7eb8602f514417  4237827  released  \n",
      "5  c417fc225ea787b7b9606aee76ded3f4  4210784  released  \n",
      "6  e958718c855c285ed941dccfad75ff50  4226323  released  \n",
      "7  e57aa56bc3bbd01efa87f13c3f707c6a  4230270  released  \n"
     ]
    }
   ],
   "source": [
    "import pandas as pd\n",
    "manifest4 =  pd.read_csv('../manifests/query_4.2022-11-03.txt', sep = '\\t')\n",
    "manifest1 = pd.read_csv('../manifests/query_1.2022-10-17.txt', sep = '\\t')\n",
    "\n",
    "to_clean = manifest1[~(manifest1['filename'].isin(manifest4['filename']))]\n",
    "print(to_clean[0:5])\n",
    "get_clean_tsv(to_clean)\n",
    "                "
   ]
  }
 ],
 "metadata": {
  "kernelspec": {
   "display_name": "Python 3 (ipykernel)",
   "language": "python",
   "name": "python3"
  },
  "language_info": {
   "codemirror_mode": {
    "name": "ipython",
    "version": 3
   },
   "file_extension": ".py",
   "mimetype": "text/x-python",
   "name": "python",
   "nbconvert_exporter": "python",
   "pygments_lexer": "ipython3",
   "version": "3.10.8"
  }
 },
 "nbformat": 4,
 "nbformat_minor": 4
}
